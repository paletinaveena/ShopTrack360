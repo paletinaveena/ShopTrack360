{
 "cells": [
  {
   "cell_type": "markdown",
   "id": "ef564aef",
   "metadata": {},
   "source": []
  },
  {
   "cell_type": "code",
   "execution_count": 1,
   "id": "25bb59cc",
   "metadata": {},
   "outputs": [],
   "source": [
    "import pandas as pd\n",
    "from datetime import timedelta"
   ]
  },
  {
   "cell_type": "code",
   "execution_count": 5,
   "id": "cb4724d8",
   "metadata": {},
   "outputs": [],
   "source": [
    "df = pd.read_csv(\"/Users/naveenapaleti/Projects/ShopTrack360/data/cleaned_ecommerce_data.csv\")\n",
    "df['InvoiceDate'] = pd.to_datetime(df['InvoiceDate'])\n",
    "df[\"TotalPrice\"] = df[\"Quantity\"] * df[\"UnitPrice\"]"
   ]
  },
  {
   "cell_type": "code",
   "execution_count": 3,
   "id": "77ae6d72",
   "metadata": {},
   "outputs": [],
   "source": [
    "latest_date = df['InvoiceDate'].max()\n",
    "churn_threshold = 30  # days\n",
    "cutoff_date = latest_date - timedelta(days=churn_threshold)"
   ]
  },
  {
   "cell_type": "code",
   "execution_count": 6,
   "id": "a797e222",
   "metadata": {},
   "outputs": [],
   "source": [
    "customer_df = df.groupby('CustomerID').agg({\n",
    "    'InvoiceDate': [lambda x: (latest_date - x.max()).days,  # Recency\n",
    "                    lambda x: (x.max() - x.min()).days + 1], # Engagement span\n",
    "    'InvoiceNo': 'nunique',     # Frequency\n",
    "    'TotalPrice': 'sum',        # Monetary\n",
    "    'StockCode': 'nunique',     # Product diversity\n",
    "    'Quantity': 'sum',          # Basket size\n",
    "    'Country': 'first'          # Country\n",
    "}).reset_index()"
   ]
  },
  {
   "cell_type": "code",
   "execution_count": 7,
   "id": "ebe45c00",
   "metadata": {},
   "outputs": [],
   "source": [
    "customer_df.columns = [\n",
    "    'CustomerID', 'Recency', 'EngagementDays',\n",
    "    'Frequency', 'Monetary', 'UniqueProducts',\n",
    "    'TotalQuantity', 'Country'\n",
    "]"
   ]
  },
  {
   "cell_type": "code",
   "execution_count": 8,
   "id": "cabef018",
   "metadata": {},
   "outputs": [],
   "source": [
    "customer_df['AvgBasketSize'] = customer_df['TotalQuantity'] / customer_df['Frequency']\n",
    "customer_df['AvgSpendPerTxn'] = customer_df['Monetary'] / customer_df['Frequency']"
   ]
  },
  {
   "cell_type": "code",
   "execution_count": 9,
   "id": "61d7caa3",
   "metadata": {},
   "outputs": [],
   "source": [
    "# Last purchase date per customer\n",
    "last_purchase = df.groupby('CustomerID')['InvoiceDate'].max()\n",
    "churned_customers = last_purchase[last_purchase < cutoff_date].index\n",
    "\n",
    "customer_df['ChurnLabel'] = customer_df['CustomerID'].isin(churned_customers).astype(int)"
   ]
  },
  {
   "cell_type": "code",
   "execution_count": 10,
   "id": "4f26c1f3",
   "metadata": {},
   "outputs": [],
   "source": [
    "customer_df.to_csv(\"/Users/naveenapaleti/Projects/ShopTrack360/data/customer_features.csv\", index=False)"
   ]
  }
 ],
 "metadata": {
  "kernelspec": {
   "display_name": "base",
   "language": "python",
   "name": "python3"
  },
  "language_info": {
   "codemirror_mode": {
    "name": "ipython",
    "version": 3
   },
   "file_extension": ".py",
   "mimetype": "text/x-python",
   "name": "python",
   "nbconvert_exporter": "python",
   "pygments_lexer": "ipython3",
   "version": "3.12.2"
  }
 },
 "nbformat": 4,
 "nbformat_minor": 5
}

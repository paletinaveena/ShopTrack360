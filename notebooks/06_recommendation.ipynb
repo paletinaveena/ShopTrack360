{
 "cells": [
  {
   "cell_type": "markdown",
   "id": "22cb3566",
   "metadata": {},
   "source": []
  },
  {
   "cell_type": "code",
   "execution_count": 1,
   "id": "bea8081e",
   "metadata": {},
   "outputs": [],
   "source": [
    "import pandas as pd\n",
    "from sklearn.decomposition import TruncatedSVD\n",
    "from sklearn.feature_extraction.text import TfidfVectorizer\n",
    "from sklearn.metrics.pairwise import cosine_similarity"
   ]
  },
  {
   "cell_type": "code",
   "execution_count": 2,
   "id": "a37a6297",
   "metadata": {},
   "outputs": [],
   "source": [
    "df = pd.read_csv(\"/Users/naveenapaleti/Projects/ShopTrack360/data/cleaned_ecommerce_data.csv\")\n",
    "\n",
    "# Aggregate by Customer-Product\n",
    "user_product = df.groupby(['CustomerID', 'StockCode'])['Quantity'].sum().unstack().fillna(0)"
   ]
  },
  {
   "cell_type": "code",
   "execution_count": 3,
   "id": "e2685d3b",
   "metadata": {},
   "outputs": [],
   "source": [
    "svd = TruncatedSVD(n_components=20, random_state=42)\n",
    "user_embeddings = svd.fit_transform(user_product)"
   ]
  },
  {
   "cell_type": "code",
   "execution_count": 4,
   "id": "d4fb5ce6",
   "metadata": {},
   "outputs": [
    {
     "name": "stdout",
     "output_type": "stream",
     "text": [
      "Top 5 recommended products for Customer 12346\n",
      "StockCode\n",
      "17084R    4.658302\n",
      "21169     3.755300\n",
      "23230     3.716835\n",
      "21166     3.417694\n",
      "21668     3.036946\n",
      "dtype: float64\n"
     ]
    }
   ],
   "source": [
    "# Pick a random customer\n",
    "sample_customer = user_product.index[0]\n",
    "\n",
    "# Predict product scores\n",
    "customer_vec = user_embeddings[user_product.index.get_loc(sample_customer)]\n",
    "product_scores = svd.components_.T @ customer_vec\n",
    "\n",
    "# Rank top 5 unseen products\n",
    "already_bought = user_product.loc[sample_customer][user_product.loc[sample_customer] > 0].index\n",
    "recommended = pd.Series(product_scores, index=user_product.columns).drop(already_bought).sort_values(ascending=False)\n",
    "\n",
    "print(\"Top 5 recommended products for Customer\", sample_customer)\n",
    "print(recommended.head(5))\n"
   ]
  },
  {
   "cell_type": "code",
   "execution_count": 5,
   "id": "b56f858d",
   "metadata": {},
   "outputs": [],
   "source": [
    "# Drop nulls and duplicates\n",
    "products = df[['StockCode', 'Description']].drop_duplicates().dropna()\n",
    "\n",
    "# TF-IDF matrix\n",
    "tfidf = TfidfVectorizer(stop_words='english')\n",
    "tfidf_matrix = tfidf.fit_transform(products['Description'])\n",
    "\n",
    "# Compute similarity\n",
    "cosine_sim = cosine_similarity(tfidf_matrix, tfidf_matrix)\n"
   ]
  },
  {
   "cell_type": "code",
   "execution_count": 6,
   "id": "fef5d4d1",
   "metadata": {},
   "outputs": [
    {
     "data": {
      "text/html": [
       "<div>\n",
       "<style scoped>\n",
       "    .dataframe tbody tr th:only-of-type {\n",
       "        vertical-align: middle;\n",
       "    }\n",
       "\n",
       "    .dataframe tbody tr th {\n",
       "        vertical-align: top;\n",
       "    }\n",
       "\n",
       "    .dataframe thead th {\n",
       "        text-align: right;\n",
       "    }\n",
       "</style>\n",
       "<table border=\"1\" class=\"dataframe\">\n",
       "  <thead>\n",
       "    <tr style=\"text-align: right;\">\n",
       "      <th></th>\n",
       "      <th>StockCode</th>\n",
       "      <th>Description</th>\n",
       "    </tr>\n",
       "  </thead>\n",
       "  <tbody>\n",
       "    <tr>\n",
       "      <th>284212</th>\n",
       "      <td>22804</td>\n",
       "      <td>PINK HANGING HEART T-LIGHT HOLDER</td>\n",
       "    </tr>\n",
       "    <tr>\n",
       "      <th>83</th>\n",
       "      <td>21733</td>\n",
       "      <td>RED HANGING HEART T-LIGHT HOLDER</td>\n",
       "    </tr>\n",
       "    <tr>\n",
       "      <th>215</th>\n",
       "      <td>84970S</td>\n",
       "      <td>HANGING HEART ZINC T-LIGHT HOLDER</td>\n",
       "    </tr>\n",
       "    <tr>\n",
       "      <th>390137</th>\n",
       "      <td>85123A</td>\n",
       "      <td>CREAM HANGING HEART T-LIGHT HOLDER</td>\n",
       "    </tr>\n",
       "    <tr>\n",
       "      <th>788</th>\n",
       "      <td>21814</td>\n",
       "      <td>HEART T-LIGHT HOLDER</td>\n",
       "    </tr>\n",
       "  </tbody>\n",
       "</table>\n",
       "</div>"
      ],
      "text/plain": [
       "       StockCode                         Description\n",
       "284212     22804   PINK HANGING HEART T-LIGHT HOLDER\n",
       "83         21733    RED HANGING HEART T-LIGHT HOLDER\n",
       "215       84970S   HANGING HEART ZINC T-LIGHT HOLDER\n",
       "390137    85123A  CREAM HANGING HEART T-LIGHT HOLDER\n",
       "788        21814               HEART T-LIGHT HOLDER "
      ]
     },
     "execution_count": 6,
     "metadata": {},
     "output_type": "execute_result"
    }
   ],
   "source": [
    "# Map indices\n",
    "indices = pd.Series(products.index, index=products['Description'])\n",
    "\n",
    "def recommend_similar(desc, n=5):\n",
    "    idx = indices[desc]\n",
    "    sim_scores = list(enumerate(cosine_sim[idx]))\n",
    "    sim_scores = sorted(sim_scores, key=lambda x: x[1], reverse=True)[1:n+1]\n",
    "    product_indices = [i[0] for i in sim_scores]\n",
    "    return products.iloc[product_indices][['StockCode', 'Description']]\n",
    "\n",
    "# Example\n",
    "recommend_similar('WHITE HANGING HEART T-LIGHT HOLDER')\n"
   ]
  },
  {
   "cell_type": "code",
   "execution_count": null,
   "id": "1311fa8a",
   "metadata": {},
   "outputs": [],
   "source": []
  }
 ],
 "metadata": {
  "kernelspec": {
   "display_name": "base",
   "language": "python",
   "name": "python3"
  },
  "language_info": {
   "codemirror_mode": {
    "name": "ipython",
    "version": 3
   },
   "file_extension": ".py",
   "mimetype": "text/x-python",
   "name": "python",
   "nbconvert_exporter": "python",
   "pygments_lexer": "ipython3",
   "version": "3.12.2"
  }
 },
 "nbformat": 4,
 "nbformat_minor": 5
}

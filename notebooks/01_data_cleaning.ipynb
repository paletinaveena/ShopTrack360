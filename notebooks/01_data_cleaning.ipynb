{
 "cells": [
  {
   "cell_type": "markdown",
   "id": "26e685d5",
   "metadata": {},
   "source": [
    "# Data Cleaning & Preprocessing"
   ]
  },
  {
   "cell_type": "markdown",
   "id": "05b717c6",
   "metadata": {},
   "source": [
    "### 1. Import Required Libraries"
   ]
  },
  {
   "cell_type": "code",
   "execution_count": 8,
   "id": "2d896084",
   "metadata": {},
   "outputs": [],
   "source": [
    "import pandas as pd\n",
    "import numpy as np"
   ]
  },
  {
   "cell_type": "markdown",
   "id": "c38980ab",
   "metadata": {},
   "source": [
    "### 2. Load the Dataset"
   ]
  },
  {
   "cell_type": "code",
   "execution_count": 9,
   "id": "f5e8412f",
   "metadata": {},
   "outputs": [],
   "source": [
    "df = pd.read_csv('/Users/naveenapaleti/Projects/ShopTrack360/data/data.csv',encoding=\"ISO-8859-1\", dtype={'CustomerID': str,'InvoiceID': str})"
   ]
  },
  {
   "cell_type": "markdown",
   "id": "dacc1606",
   "metadata": {},
   "source": [
    "### 3. Initial Data Overview"
   ]
  },
  {
   "cell_type": "code",
   "execution_count": 10,
   "id": "9468f725",
   "metadata": {},
   "outputs": [
    {
     "name": "stdout",
     "output_type": "stream",
     "text": [
      "Initial Shape: (541909, 8)\n"
     ]
    }
   ],
   "source": [
    "print(\"Initial Shape:\", df.shape)"
   ]
  },
  {
   "cell_type": "code",
   "execution_count": 13,
   "id": "a5984ed4",
   "metadata": {},
   "outputs": [
    {
     "name": "stdout",
     "output_type": "stream",
     "text": [
      "Missing Values:\n",
      "InvoiceNo           0\n",
      "StockCode           0\n",
      "Description      1454\n",
      "Quantity            0\n",
      "InvoiceDate         0\n",
      "UnitPrice           0\n",
      "CustomerID     135080\n",
      "Country             0\n",
      "dtype: int64\n"
     ]
    }
   ],
   "source": [
    "print(\"Missing Values:\")\n",
    "print(df.isnull().sum())"
   ]
  },
  {
   "cell_type": "code",
   "execution_count": 15,
   "id": "be1c8645",
   "metadata": {},
   "outputs": [
    {
     "name": "stdout",
     "output_type": "stream",
     "text": [
      "Data Types:\n",
      "InvoiceNo       object\n",
      "StockCode       object\n",
      "Description     object\n",
      "Quantity         int64\n",
      "InvoiceDate     object\n",
      "UnitPrice      float64\n",
      "CustomerID      object\n",
      "Country         object\n",
      "dtype: object\n"
     ]
    }
   ],
   "source": [
    "print(\"Data Types:\")\n",
    "print(df.dtypes)"
   ]
  },
  {
   "cell_type": "code",
   "execution_count": 16,
   "id": "afcf9d91",
   "metadata": {},
   "outputs": [
    {
     "name": "stdout",
     "output_type": "stream",
     "text": [
      "Duplicate Rows:\n",
      "5268\n"
     ]
    }
   ],
   "source": [
    "print(\"Duplicate Rows:\") \n",
    "print(df.duplicated().sum())"
   ]
  },
  {
   "cell_type": "markdown",
   "id": "33bb03ee",
   "metadata": {},
   "source": [
    "### 4. Convert 'InvoiceDate' to datetime"
   ]
  },
  {
   "cell_type": "code",
   "execution_count": 17,
   "id": "2e691d0f",
   "metadata": {},
   "outputs": [],
   "source": [
    "df['InvoiceDate'] = pd.to_datetime(df['InvoiceDate'])"
   ]
  },
  {
   "cell_type": "markdown",
   "id": "fa5c5b26",
   "metadata": {},
   "source": [
    "### 5. Drop rows with missing CustomerID (essential for customer-level analysis)"
   ]
  },
  {
   "cell_type": "code",
   "execution_count": 18,
   "id": "ffe7ce98",
   "metadata": {},
   "outputs": [],
   "source": [
    "df = df.dropna(subset=[\"CustomerID\"])"
   ]
  },
  {
   "cell_type": "markdown",
   "id": "1ac9836b",
   "metadata": {},
   "source": [
    "### 6. Remove Duplicates"
   ]
  },
  {
   "cell_type": "code",
   "execution_count": 19,
   "id": "e786664f",
   "metadata": {},
   "outputs": [],
   "source": [
    "df = df.drop_duplicates()"
   ]
  },
  {
   "cell_type": "markdown",
   "id": "ee2764d5",
   "metadata": {},
   "source": [
    "### 7. Remove rows with Quantity <= 0 or UnitPrice <= 0 (invalid transactions)"
   ]
  },
  {
   "cell_type": "code",
   "execution_count": 21,
   "id": "a1599724",
   "metadata": {},
   "outputs": [],
   "source": [
    "df = df[(df[\"Quantity\"] > 0) & (df[\"UnitPrice\"] > 0)]"
   ]
  },
  {
   "cell_type": "markdown",
   "id": "2fd772f0",
   "metadata": {},
   "source": [
    "### 8. Reset Index after cleaning"
   ]
  },
  {
   "cell_type": "code",
   "execution_count": 23,
   "id": "e53dc1d1",
   "metadata": {},
   "outputs": [],
   "source": [
    "df = df.reset_index(drop=True)"
   ]
  },
  {
   "cell_type": "markdown",
   "id": "9ad894c3",
   "metadata": {},
   "source": [
    "### 9. Final Overview"
   ]
  },
  {
   "cell_type": "code",
   "execution_count": 24,
   "id": "d7ac1c8a",
   "metadata": {},
   "outputs": [
    {
     "name": "stdout",
     "output_type": "stream",
     "text": [
      "Cleaned Shape: (392692, 8)\n"
     ]
    }
   ],
   "source": [
    "print(\"Cleaned Shape:\", df.shape)"
   ]
  },
  {
   "cell_type": "code",
   "execution_count": 25,
   "id": "ce1e3120",
   "metadata": {},
   "outputs": [
    {
     "name": "stdout",
     "output_type": "stream",
     "text": [
      "Missing Values After Cleaning:\n",
      "InvoiceNo      0\n",
      "StockCode      0\n",
      "Description    0\n",
      "Quantity       0\n",
      "InvoiceDate    0\n",
      "UnitPrice      0\n",
      "CustomerID     0\n",
      "Country        0\n",
      "dtype: int64\n"
     ]
    }
   ],
   "source": [
    "print(\"Missing Values After Cleaning:\")\n",
    "print(df.isnull().sum())"
   ]
  },
  {
   "cell_type": "code",
   "execution_count": 27,
   "id": "1761467a",
   "metadata": {},
   "outputs": [
    {
     "name": "stdout",
     "output_type": "stream",
     "text": [
      "Duplicate Rows After Cleaning: 0\n"
     ]
    }
   ],
   "source": [
    "print(\"Duplicate Rows After Cleaning:\", df.duplicated().sum())"
   ]
  },
  {
   "cell_type": "code",
   "execution_count": 28,
   "id": "284e6658",
   "metadata": {},
   "outputs": [],
   "source": [
    "df.to_csv(\"/Users/naveenapaleti/Projects/ShopTrack360/data/cleaned_ecommerce_data.csv\", index=False)"
   ]
  }
 ],
 "metadata": {
  "kernelspec": {
   "display_name": "base",
   "language": "python",
   "name": "python3"
  },
  "language_info": {
   "codemirror_mode": {
    "name": "ipython",
    "version": 3
   },
   "file_extension": ".py",
   "mimetype": "text/x-python",
   "name": "python",
   "nbconvert_exporter": "python",
   "pygments_lexer": "ipython3",
   "version": "3.12.2"
  }
 },
 "nbformat": 4,
 "nbformat_minor": 5
}
